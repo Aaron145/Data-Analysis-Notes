{
 "cells": [
  {
   "cell_type": "markdown",
   "metadata": {},
   "source": [
    "## 1 Bagging"
   ]
  },
  {
   "cell_type": "markdown",
   "metadata": {},
   "source": [
    "### 1.1 BaggingClassifier"
   ]
  },
  {
   "cell_type": "code",
   "execution_count": 3,
   "metadata": {},
   "outputs": [],
   "source": [
    "import pandas as pd\n",
    "from sklearn.model_selection import KFold\n",
    "from sklearn.model_selection import cross_val_score\n",
    "from sklearn.ensemble import BaggingClassifier\n",
    "from sklearn.tree import DecisionTreeClassifier\n",
    "import warnings\n",
    "warnings.filterwarnings('ignore')"
   ]
  },
  {
   "cell_type": "code",
   "execution_count": 5,
   "metadata": {},
   "outputs": [
    {
     "name": "stdout",
     "output_type": "stream",
     "text": [
      "0.7630041011619959\n"
     ]
    }
   ],
   "source": [
    "data = pd.read_csv('pima_data.csv', header=None)\n",
    "array = data.values\n",
    "x = array[:, :8]\n",
    "y = array[:, 8]\n",
    "kfold = KFold(n_splits=10, random_state=4)\n",
    "model = DecisionTreeClassifier()\n",
    "n_ = 100\n",
    "bagging = BaggingClassifier(base_estimator=model, n_estimators=n_, random_state=4)\n",
    "score = cross_val_score(bagging, x, y, cv=kfold)\n",
    "print (score.mean())"
   ]
  },
  {
   "cell_type": "markdown",
   "metadata": {},
   "source": [
    "### 1.2 RandomForestClassifier"
   ]
  },
  {
   "cell_type": "code",
   "execution_count": 1,
   "metadata": {},
   "outputs": [],
   "source": [
    "from sklearn.ensemble import RandomForestClassifier"
   ]
  },
  {
   "cell_type": "code",
   "execution_count": 6,
   "metadata": {},
   "outputs": [
    {
     "name": "stdout",
     "output_type": "stream",
     "text": [
      "0.7773239917976761\n"
     ]
    }
   ],
   "source": [
    "kfold = KFold(n_splits=10, random_state=4)\n",
    "n_ = 100\n",
    "model = RandomForestClassifier(n_estimators=n_, max_features=3, random_state=4)\n",
    "score = cross_val_score(model, x, y, cv=kfold)\n",
    "print (score.mean())"
   ]
  },
  {
   "cell_type": "markdown",
   "metadata": {},
   "source": [
    "### 1.3 ExtraTreeClassifier"
   ]
  },
  {
   "cell_type": "code",
   "execution_count": 8,
   "metadata": {},
   "outputs": [],
   "source": [
    "from sklearn.ensemble import ExtraTreesClassifier"
   ]
  },
  {
   "cell_type": "code",
   "execution_count": 9,
   "metadata": {},
   "outputs": [
    {
     "name": "stdout",
     "output_type": "stream",
     "text": [
      "0.7694463431305537\n"
     ]
    }
   ],
   "source": [
    "kfold = KFold(n_splits=10, random_state=4)\n",
    "n_ = 100\n",
    "model = ExtraTreesClassifier(n_estimators=n_, max_features=3, random_state=4)\n",
    "score = cross_val_score(model, x, y, cv=kfold)\n",
    "print (score.mean())"
   ]
  },
  {
   "cell_type": "markdown",
   "metadata": {},
   "source": [
    "## 2 Boosting"
   ]
  },
  {
   "cell_type": "markdown",
   "metadata": {},
   "source": [
    "### 2.1 AdaBoostClassifier"
   ]
  },
  {
   "cell_type": "code",
   "execution_count": null,
   "metadata": {},
   "outputs": [],
   "source": [
    "from sklearn.ensemble import AdaBoostClassifier"
   ]
  },
  {
   "cell_type": "code",
   "execution_count": 14,
   "metadata": {},
   "outputs": [
    {
     "name": "stdout",
     "output_type": "stream",
     "text": [
      "0.7421565276828435\n"
     ]
    }
   ],
   "source": [
    "kfold = KFold(n_splits=10, random_state=4)\n",
    "n_ = 100\n",
    "model = AdaBoostClassifier(n_estimators=n_, random_state=4)\n",
    "score = cross_val_score(model, x, y, cv=kfold)\n",
    "print (score.mean())"
   ]
  },
  {
   "cell_type": "markdown",
   "metadata": {},
   "source": [
    "### 2.2 GradientBoostingClassifier"
   ]
  },
  {
   "cell_type": "code",
   "execution_count": 16,
   "metadata": {},
   "outputs": [],
   "source": [
    "from sklearn.ensemble import GradientBoostingClassifier"
   ]
  },
  {
   "cell_type": "code",
   "execution_count": 17,
   "metadata": {},
   "outputs": [
    {
     "name": "stdout",
     "output_type": "stream",
     "text": [
      "0.7656015037593986\n"
     ]
    }
   ],
   "source": [
    "kfold = KFold(n_splits=10, random_state=4)\n",
    "n_ = 100\n",
    "model = GradientBoostingClassifier(n_estimators=n_, random_state=4)\n",
    "score = cross_val_score(model, x, y, cv=kfold)\n",
    "print (score.mean())"
   ]
  },
  {
   "cell_type": "markdown",
   "metadata": {},
   "source": [
    "## 3 Voting"
   ]
  },
  {
   "cell_type": "code",
   "execution_count": 20,
   "metadata": {},
   "outputs": [],
   "source": [
    "from sklearn.ensemble import VotingClassifier\n",
    "from sklearn.linear_model import LogisticRegression\n",
    "from sklearn.svm import SVC\n",
    "from sklearn.discriminant_analysis import LinearDiscriminantAnalysis"
   ]
  },
  {
   "cell_type": "code",
   "execution_count": 21,
   "metadata": {},
   "outputs": [
    {
     "name": "stdout",
     "output_type": "stream",
     "text": [
      "0.773444976076555\n"
     ]
    }
   ],
   "source": [
    "kfold = KFold(n_splits=10, random_state=4)\n",
    "models = []\n",
    "models.append(('svc', SVC()))\n",
    "models.append(('LR', LogisticRegression()))\n",
    "models.append(('LDA', LinearDiscriminantAnalysis()))\n",
    "model = VotingClassifier(estimators=models)\n",
    "score = cross_val_score(model, x, y, cv=kfold)\n",
    "print (score.mean())"
   ]
  },
  {
   "cell_type": "code",
   "execution_count": null,
   "metadata": {},
   "outputs": [],
   "source": []
  }
 ],
 "metadata": {
  "kernelspec": {
   "display_name": "Python 3",
   "language": "python",
   "name": "python3"
  },
  "language_info": {
   "codemirror_mode": {
    "name": "ipython",
    "version": 3
   },
   "file_extension": ".py",
   "mimetype": "text/x-python",
   "name": "python",
   "nbconvert_exporter": "python",
   "pygments_lexer": "ipython3",
   "version": "3.6.9"
  }
 },
 "nbformat": 4,
 "nbformat_minor": 4
}
