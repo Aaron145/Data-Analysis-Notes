{
 "cells": [
  {
   "cell_type": "markdown",
   "metadata": {},
   "source": [
    "## 1 ROC and AUC"
   ]
  },
  {
   "cell_type": "code",
   "execution_count": 3,
   "metadata": {},
   "outputs": [],
   "source": [
    "import pandas as pd\n",
    "from sklearn.linear_model import LogisticRegression\n",
    "from sklearn.model_selection import cross_val_score\n",
    "from sklearn.model_selection import KFold\n",
    "import warnings\n",
    "warnings.filterwarnings('ignore')"
   ]
  },
  {
   "cell_type": "code",
   "execution_count": 4,
   "metadata": {},
   "outputs": [
    {
     "name": "stdout",
     "output_type": "stream",
     "text": [
      "roc_auc result: 0.826(0.043)\n"
     ]
    }
   ],
   "source": [
    "filename = 'pima_data.csv'\n",
    "names = ['preg', 'plas', 'pres', 'skin', 'test', 'mass', 'pedi', 'age', 'class']\n",
    "data = pd.read_csv(filename, names=names)\n",
    "array = data.values\n",
    "x = array[:, :8]\n",
    "y = array[:, 8]\n",
    "model = LogisticRegression()\n",
    "kfold = KFold(n_splits=10, random_state=4)\n",
    "scoring = 'roc_auc'\n",
    "score = cross_val_score(model, x, y, cv=kfold, scoring=scoring)\n",
    "print (\"roc_auc result: %.3f(%.3f)\" % (score.mean(), score.std()))"
   ]
  },
  {
   "cell_type": "markdown",
   "metadata": {},
   "source": [
    "## 2 classification report"
   ]
  },
  {
   "cell_type": "code",
   "execution_count": 6,
   "metadata": {},
   "outputs": [],
   "source": [
    "from sklearn.metrics import classification_report\n",
    "from sklearn.model_selection import train_test_split"
   ]
  },
  {
   "cell_type": "code",
   "execution_count": 7,
   "metadata": {},
   "outputs": [
    {
     "name": "stdout",
     "output_type": "stream",
     "text": [
      "              precision    recall  f1-score   support\n",
      "\n",
      "         0.0       0.84      0.88      0.86       171\n",
      "         1.0       0.72      0.66      0.69        83\n",
      "\n",
      "    accuracy                           0.81       254\n",
      "   macro avg       0.78      0.77      0.78       254\n",
      "weighted avg       0.80      0.81      0.80       254\n",
      "\n"
     ]
    }
   ],
   "source": [
    "x_train, x_test, y_train, y_test = train_test_split(x, y, test_size=0.33,\\\n",
    "                                                   random_state=4)\n",
    "model = LogisticRegression().fit(x_train, y_train)\n",
    "y_predicted = model.predict(x_test)\n",
    "report = classification_report(y_test, y_predicted)\n",
    "print (report)"
   ]
  },
  {
   "cell_type": "markdown",
   "metadata": {},
   "source": [
    "## 3 confusion matrix"
   ]
  },
  {
   "cell_type": "code",
   "execution_count": 9,
   "metadata": {},
   "outputs": [],
   "source": [
    "from sklearn.metrics import confusion_matrix"
   ]
  },
  {
   "cell_type": "code",
   "execution_count": 12,
   "metadata": {},
   "outputs": [
    {
     "name": "stdout",
     "output_type": "stream",
     "text": [
      "     0   1\n",
      "0  150  21\n",
      "1   28  55\n"
     ]
    }
   ],
   "source": [
    "x_train, x_test, y_train, t_test = train_test_split(x, y, test_size=0.33, random_state=4)\n",
    "model = LogisticRegression().fit(x_train, y_train)\n",
    "y_predicted = model.predict(x_test)\n",
    "confusion = confusion_matrix(y_test, y_predicted)\n",
    "classes = ['0', '1']\n",
    "dataframe = pd.DataFrame(data = confusion,\n",
    "                       index = classes,\n",
    "                       columns = classes)\n",
    "print (dataframe)"
   ]
  },
  {
   "cell_type": "markdown",
   "metadata": {},
   "source": [
    "## 4 log loss"
   ]
  },
  {
   "cell_type": "code",
   "execution_count": 13,
   "metadata": {},
   "outputs": [
    {
     "name": "stdout",
     "output_type": "stream",
     "text": [
      "log loss:-0.486(0.064)\n"
     ]
    }
   ],
   "source": [
    "model = LogisticRegression()\n",
    "scoring = 'neg_log_loss'\n",
    "kfold = KFold(n_splits=10, random_state=4)\n",
    "result = cross_val_score(model, x, y, cv=kfold, scoring=scoring)\n",
    "print (\"log loss:%.3f(%.3f)\" % (result.mean(), result.std()))"
   ]
  },
  {
   "cell_type": "markdown",
   "metadata": {},
   "source": [
    "## 5 mean absolute error"
   ]
  },
  {
   "cell_type": "code",
   "execution_count": 15,
   "metadata": {},
   "outputs": [],
   "source": [
    "from sklearn.linear_model import LinearRegression"
   ]
  },
  {
   "cell_type": "code",
   "execution_count": 17,
   "metadata": {},
   "outputs": [],
   "source": [
    "filename = 'housing.csv'\n",
    "names = ['CRIM', 'ZN', 'INDUS', 'CHAS', 'NOX', 'RM', 'AGE', 'DIS',\n",
    "         'RAD', 'TAX', 'PRTATIO', 'B', 'LSTAT', 'MEDV']\n",
    "data = pd.read_csv(filename, names=names, delim_whitespace=True)"
   ]
  },
  {
   "cell_type": "code",
   "execution_count": 18,
   "metadata": {},
   "outputs": [
    {
     "name": "stdout",
     "output_type": "stream",
     "text": [
      "MAE result: -0.3368537167214989(0.022362553209089305)\n"
     ]
    }
   ],
   "source": [
    "model = LinearRegression()\n",
    "kfold = KFold(n_splits=10, random_state=4)\n",
    "scoring = 'neg_mean_absolute_error'\n",
    "result = cross_val_score(model, x, y, cv=kfold, scoring=scoring)\n",
    "print (\"MAE result: {}({})\".format(result.mean(), result.std()))"
   ]
  },
  {
   "cell_type": "markdown",
   "metadata": {},
   "source": [
    "## 6 mean squared error"
   ]
  },
  {
   "cell_type": "code",
   "execution_count": 19,
   "metadata": {},
   "outputs": [
    {
     "name": "stdout",
     "output_type": "stream",
     "text": [
      "MSE result: -0.16281250654356544(0.022168476633581857)\n"
     ]
    }
   ],
   "source": [
    "model = LinearRegression()\n",
    "kfold = KFold(n_splits=10, random_state=4)\n",
    "scoring = 'neg_mean_squared_error'\n",
    "result = cross_val_score(model, x, y, cv=kfold, scoring=scoring)\n",
    "print (\"MSE result: {}({})\".format(result.mean(), result.std()))"
   ]
  },
  {
   "cell_type": "code",
   "execution_count": null,
   "metadata": {},
   "outputs": [],
   "source": []
  }
 ],
 "metadata": {
  "kernelspec": {
   "display_name": "Python 3",
   "language": "python",
   "name": "python3"
  },
  "language_info": {
   "codemirror_mode": {
    "name": "ipython",
    "version": 3
   },
   "file_extension": ".py",
   "mimetype": "text/x-python",
   "name": "python",
   "nbconvert_exporter": "python",
   "pygments_lexer": "ipython3",
   "version": "3.6.9"
  }
 },
 "nbformat": 4,
 "nbformat_minor": 4
}
