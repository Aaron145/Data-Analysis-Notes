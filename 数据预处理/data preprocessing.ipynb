{
 "metadata": {
  "name": "",
  "signature": "sha256:244b6fd2c71352adc0dd4a766eb41701fc5f79079582c59d4f89fe2032e534ac"
 },
 "nbformat": 3,
 "nbformat_minor": 0,
 "worksheets": [
  {
   "cells": [
    {
     "cell_type": "heading",
     "level": 1,
     "metadata": {},
     "source": [
      "1. \u6b63\u6001\u5316\u6570\u636e"
     ]
    },
    {
     "cell_type": "code",
     "collapsed": false,
     "input": [
      "from pandas import read_csv\n",
      "from numpy import set_printoptions\n",
      "from sklearn.preprocessing import StandardScaler\n",
      "# \u5bfc\u5165\u6570\u636e\n",
      "filename = 'pima_data.csv'\n",
      "names = ['preg', 'plas', 'pres', 'skin', 'test', 'mass', 'pedi', 'age', 'class']\n",
      "data = read_csv(filename, names=names)\n",
      "# \u5c06\u6570\u636e\u5206\u4e3a\u8f93\u5165\u6570\u636e\u548c\u8f93\u51fa\u7ed3\u679c\n",
      "array = data.values\n",
      "X = array[:, 0:8]\n",
      "Y = array[:, 8]\n",
      "standard_array = StandardScaler().fit(X)\n",
      "standard_array"
     ],
     "language": "python",
     "metadata": {},
     "outputs": [
      {
       "metadata": {},
       "output_type": "pyout",
       "prompt_number": 6,
       "text": [
        "StandardScaler(copy=True, with_mean=True, with_std=True)"
       ]
      }
     ],
     "prompt_number": 6
    },
    {
     "cell_type": "code",
     "collapsed": false,
     "input": [
      "# \u6570\u636e\u8f6c\u6362\n",
      "rescaledX = standard_array.transform(X)\n",
      "rescaledX"
     ],
     "language": "python",
     "metadata": {},
     "outputs": [
      {
       "metadata": {},
       "output_type": "pyout",
       "prompt_number": 7,
       "text": [
        "array([[ 0.63994726,  0.84832379,  0.14964075, ...,  0.20401277,\n",
        "         0.46849198,  1.4259954 ],\n",
        "       [-0.84488505, -1.12339636, -0.16054575, ..., -0.68442195,\n",
        "        -0.36506078, -0.19067191],\n",
        "       [ 1.23388019,  1.94372388, -0.26394125, ..., -1.10325546,\n",
        "         0.60439732, -0.10558415],\n",
        "       ..., \n",
        "       [ 0.3429808 ,  0.00330087,  0.14964075, ..., -0.73518964,\n",
        "        -0.68519336, -0.27575966],\n",
        "       [-0.84488505,  0.1597866 , -0.47073225, ..., -0.24020459,\n",
        "        -0.37110101,  1.17073215],\n",
        "       [-0.84488505, -0.8730192 ,  0.04624525, ..., -0.20212881,\n",
        "        -0.47378505, -0.87137393]])"
       ]
      }
     ],
     "prompt_number": 7
    },
    {
     "cell_type": "code",
     "collapsed": false,
     "input": [
      "# \u8bbe\u5b9a\u6570\u636e\u7684\u6253\u5370\u683c\u5f0f\n",
      "set_printoptions(precision=3)\n",
      "print(rescaledX)"
     ],
     "language": "python",
     "metadata": {},
     "outputs": [
      {
       "output_type": "stream",
       "stream": "stdout",
       "text": [
        "[[ 0.64   0.848  0.15  ...,  0.204  0.468  1.426]\n",
        " [-0.845 -1.123 -0.161 ..., -0.684 -0.365 -0.191]\n",
        " [ 1.234  1.944 -0.264 ..., -1.103  0.604 -0.106]\n",
        " ..., \n",
        " [ 0.343  0.003  0.15  ..., -0.735 -0.685 -0.276]\n",
        " [-0.845  0.16  -0.471 ..., -0.24  -0.371  1.171]\n",
        " [-0.845 -0.873  0.046 ..., -0.202 -0.474 -0.871]]\n"
       ]
      }
     ],
     "prompt_number": 8
    },
    {
     "cell_type": "heading",
     "level": 1,
     "metadata": {},
     "source": [
      "2. MinMaxScaler"
     ]
    },
    {
     "cell_type": "code",
     "collapsed": false,
     "input": [
      "# \u8c03\u6574\u6570\u636e\u5c3a\u5ea6\uff080..\uff09\n",
      "from pandas import read_csv\n",
      "from numpy import set_printoptions\n",
      "from sklearn.preprocessing import MinMaxScaler\n",
      "# \u5bfc\u5165\u6570\u636e\n",
      "filename = 'pima_data.csv'\n",
      "names = ['preg', 'plas', 'pres', 'skin', 'test', 'mass', 'pedi', 'age', 'class']\n",
      "data = read_csv(filename, names=names)\n"
     ],
     "language": "python",
     "metadata": {},
     "outputs": []
    },
    {
     "cell_type": "code",
     "collapsed": false,
     "input": [
      "# \u5c06\u6570\u636e\u5206\u4e3a\u8f93\u5165\u6570\u636e\u548c\u8f93\u51fa\u7ed3\u679c\n",
      "array = data.values\n",
      "X = array[:, 0:8]\n",
      "Y = array[:, 8]\n",
      "scaler = MinMaxScaler(feature_range=(0, 1))\n",
      "# \u6570\u636e\u8f6c\u6362\n",
      "rescaledX = scaler.fit_transform(X)\n",
      "# \u8bbe\u5b9a\u6570\u636e\u7684\u6253\u5370\u683c\u5f0f\n",
      "set_printoptions(precision=3)\n",
      "print(rescaledX)"
     ],
     "language": "python",
     "metadata": {},
     "outputs": []
    }
   ],
   "metadata": {}
  }
 ]
}