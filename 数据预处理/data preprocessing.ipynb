{
 "metadata": {
  "name": "",
  "signature": "sha256:1614a714003cb2023d260c24bab08a1a9a21d09c3ce85f356b71083e410ebfeb"
 },
 "nbformat": 3,
 "nbformat_minor": 0,
 "worksheets": [
  {
   "cells": [
    {
     "cell_type": "heading",
     "level": 1,
     "metadata": {},
     "source": [
      "1. \u6b63\u6001\u5316\u6570\u636e"
     ]
    },
    {
     "cell_type": "code",
     "collapsed": false,
     "input": [
      "from pandas import read_csv\n",
      "from numpy import set_printoptions\n",
      "from sklearn.preprocessing import StandardScaler\n",
      "# \u5bfc\u5165\u6570\u636e\n",
      "filename = 'pima_data.csv'\n",
      "names = ['preg', 'plas', 'pres', 'skin', 'test', 'mass', 'pedi', 'age', 'class']\n",
      "data = read_csv(filename, names=names)\n",
      "# \u5c06\u6570\u636e\u5206\u4e3a\u8f93\u5165\u6570\u636e\u548c\u8f93\u51fa\u7ed3\u679c\n",
      "array = data.values\n",
      "X = array[:, 0:8]\n",
      "Y = array[:, 8]\n",
      "standard_array = StandardScaler().fit(X)\n",
      "standard_array"
     ],
     "language": "python",
     "metadata": {},
     "outputs": [
      {
       "metadata": {},
       "output_type": "pyout",
       "prompt_number": 6,
       "text": [
        "StandardScaler(copy=True, with_mean=True, with_std=True)"
       ]
      }
     ],
     "prompt_number": 6
    },
    {
     "cell_type": "code",
     "collapsed": false,
     "input": [
      "# \u6570\u636e\u8f6c\u6362\n",
      "rescaledX = standard_array.transform(X)\n",
      "rescaledX"
     ],
     "language": "python",
     "metadata": {},
     "outputs": [
      {
       "metadata": {},
       "output_type": "pyout",
       "prompt_number": 7,
       "text": [
        "array([[ 0.63994726,  0.84832379,  0.14964075, ...,  0.20401277,\n",
        "         0.46849198,  1.4259954 ],\n",
        "       [-0.84488505, -1.12339636, -0.16054575, ..., -0.68442195,\n",
        "        -0.36506078, -0.19067191],\n",
        "       [ 1.23388019,  1.94372388, -0.26394125, ..., -1.10325546,\n",
        "         0.60439732, -0.10558415],\n",
        "       ..., \n",
        "       [ 0.3429808 ,  0.00330087,  0.14964075, ..., -0.73518964,\n",
        "        -0.68519336, -0.27575966],\n",
        "       [-0.84488505,  0.1597866 , -0.47073225, ..., -0.24020459,\n",
        "        -0.37110101,  1.17073215],\n",
        "       [-0.84488505, -0.8730192 ,  0.04624525, ..., -0.20212881,\n",
        "        -0.47378505, -0.87137393]])"
       ]
      }
     ],
     "prompt_number": 7
    },
    {
     "cell_type": "code",
     "collapsed": false,
     "input": [
      "# \u8bbe\u5b9a\u6570\u636e\u7684\u6253\u5370\u683c\u5f0f\n",
      "set_printoptions(precision=3)\n",
      "print(rescaledX)"
     ],
     "language": "python",
     "metadata": {},
     "outputs": [
      {
       "output_type": "stream",
       "stream": "stdout",
       "text": [
        "[[ 0.64   0.848  0.15  ...,  0.204  0.468  1.426]\n",
        " [-0.845 -1.123 -0.161 ..., -0.684 -0.365 -0.191]\n",
        " [ 1.234  1.944 -0.264 ..., -1.103  0.604 -0.106]\n",
        " ..., \n",
        " [ 0.343  0.003  0.15  ..., -0.735 -0.685 -0.276]\n",
        " [-0.845  0.16  -0.471 ..., -0.24  -0.371  1.171]\n",
        " [-0.845 -0.873  0.046 ..., -0.202 -0.474 -0.871]]\n"
       ]
      }
     ],
     "prompt_number": 8
    },
    {
     "cell_type": "heading",
     "level": 1,
     "metadata": {},
     "source": [
      "2. MinMaxScaler"
     ]
    },
    {
     "cell_type": "code",
     "collapsed": false,
     "input": [
      "# \u8c03\u6574\u6570\u636e\u5c3a\u5ea6\uff080..\uff09\n",
      "from pandas import read_csv\n",
      "from numpy import set_printoptions\n",
      "from sklearn.preprocessing import MinMaxScaler\n",
      "# \u5bfc\u5165\u6570\u636e\n",
      "filename = 'pima_data.csv'\n",
      "names = ['preg', 'plas', 'pres', 'skin', 'test', 'mass', 'pedi', 'age', 'class']\n",
      "data = read_csv(filename, names=names)\n"
     ],
     "language": "python",
     "metadata": {},
     "outputs": [],
     "prompt_number": 9
    },
    {
     "cell_type": "code",
     "collapsed": false,
     "input": [
      "# \u5c06\u6570\u636e\u5206\u4e3a\u8f93\u5165\u6570\u636e\u548c\u8f93\u51fa\u7ed3\u679c\n",
      "array = data.values\n",
      "X = array[:, 0:8]\n",
      "Y = array[:, 8]\n",
      "scaler = MinMaxScaler(feature_range=(0, 1))\n",
      "# \u6570\u636e\u8f6c\u6362\n",
      "rescaledX = scaler.fit_transform(X)\n",
      "# \u8bbe\u5b9a\u6570\u636e\u7684\u6253\u5370\u683c\u5f0f\n",
      "set_printoptions(precision=3)\n",
      "print(rescaledX)"
     ],
     "language": "python",
     "metadata": {},
     "outputs": [
      {
       "output_type": "stream",
       "stream": "stdout",
       "text": [
        "[[ 0.353  0.744  0.59  ...,  0.501  0.234  0.483]\n",
        " [ 0.059  0.427  0.541 ...,  0.396  0.117  0.167]\n",
        " [ 0.471  0.92   0.525 ...,  0.347  0.254  0.183]\n",
        " ..., \n",
        " [ 0.294  0.608  0.59  ...,  0.39   0.071  0.15 ]\n",
        " [ 0.059  0.633  0.492 ...,  0.449  0.116  0.433]\n",
        " [ 0.059  0.467  0.574 ...,  0.453  0.101  0.033]]\n"
       ]
      }
     ],
     "prompt_number": 10
    },
    {
     "cell_type": "heading",
     "level": 1,
     "metadata": {},
     "source": [
      "3. \u6807\u51c6\u5316\u6570\u636e"
     ]
    },
    {
     "cell_type": "code",
     "collapsed": false,
     "input": [
      "from pandas import read_csv\n",
      "from numpy import set_printoptions\n",
      "from sklearn.preprocessing import Normalizer\n",
      "# \u5bfc\u5165\u6570\u636e\n",
      "filename = 'pima_data.csv'\n",
      "names = ['preg', 'plas', 'pres', 'skin', 'test', 'mass', 'pedi', 'age', 'class']\n",
      "data = read_csv(filename, names=names)\n",
      "# \u5c06\u6570\u636e\u5206\u4e3a\u8f93\u5165\u6570\u636e\u548c\u8f93\u51fa\u7ed3\u679c\n",
      "array = data.values\n",
      "X = array[:, 0:8]\n",
      "Y = array[:, 8]\n",
      "scaler = Normalizer().fit(X)\n",
      "# \u6570\u636e\u8f6c\u6362\n",
      "rescaledX = scaler.transform(X)\n",
      "# \u8bbe\u5b9a\u6570\u636e\u7684\u6253\u5370\u683c\u5f0f\n",
      "set_printoptions(precision=3)\n",
      "print(rescaledX)"
     ],
     "language": "python",
     "metadata": {},
     "outputs": [
      {
       "output_type": "stream",
       "stream": "stdout",
       "text": [
        "[[ 0.034  0.828  0.403 ...,  0.188  0.004  0.28 ]\n",
        " [ 0.008  0.716  0.556 ...,  0.224  0.003  0.261]\n",
        " [ 0.04   0.924  0.323 ...,  0.118  0.003  0.162]\n",
        " ..., \n",
        " [ 0.027  0.651  0.388 ...,  0.141  0.001  0.161]\n",
        " [ 0.007  0.838  0.399 ...,  0.2    0.002  0.313]\n",
        " [ 0.008  0.736  0.554 ...,  0.241  0.002  0.182]]\n"
       ]
      }
     ],
     "prompt_number": 11
    },
    {
     "cell_type": "heading",
     "level": 1,
     "metadata": {},
     "source": [
      "4. \u4e8c\u503c\u6570\u636e"
     ]
    },
    {
     "cell_type": "code",
     "collapsed": false,
     "input": [
      "from pandas import read_csv\n",
      "from numpy import set_printoptions\n",
      "from sklearn.preprocessing import Binarizer\n",
      "# \u5bfc\u5165\u6570\u636e\n",
      "filename = 'pima_data.csv'\n",
      "names = ['preg', 'plas', 'pres', 'skin', 'test', 'mass', 'pedi', 'age', 'class']\n",
      "data = read_csv(filename, names=names)\n",
      "# \u5c06\u6570\u636e\u5206\u4e3a\u8f93\u5165\u6570\u636e\u548c\u8f93\u51fa\u7ed3\u679c\n",
      "array = data.values\n",
      "X = array[:, 0:8]\n",
      "Y = array[:, 8]\n",
      "transform = Binarizer(threshold=0.0).fit(X)\n",
      "# \u6570\u636e\u8f6c\u6362\n",
      "newX = transform.transform(X)\n",
      "# \u8bbe\u5b9a\u6570\u636e\u7684\u6253\u5370\u683c\u5f0f\n",
      "set_printoptions(precision=3)\n",
      "print(newX)"
     ],
     "language": "python",
     "metadata": {},
     "outputs": [
      {
       "output_type": "stream",
       "stream": "stdout",
       "text": [
        "[[ 1.  1.  1. ...,  1.  1.  1.]\n",
        " [ 1.  1.  1. ...,  1.  1.  1.]\n",
        " [ 1.  1.  1. ...,  1.  1.  1.]\n",
        " ..., \n",
        " [ 1.  1.  1. ...,  1.  1.  1.]\n",
        " [ 1.  1.  1. ...,  1.  1.  1.]\n",
        " [ 1.  1.  1. ...,  1.  1.  1.]]\n"
       ]
      }
     ],
     "prompt_number": 12
    },
    {
     "cell_type": "code",
     "collapsed": false,
     "input": [],
     "language": "python",
     "metadata": {},
     "outputs": []
    }
   ],
   "metadata": {}
  }
 ]
}